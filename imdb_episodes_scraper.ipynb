{
  "nbformat": 4,
  "nbformat_minor": 0,
  "metadata": {
    "colab": {
      "name": "imdb_episodes_scraper.ipynb",
      "provenance": [],
      "authorship_tag": "ABX9TyPIfGsVhVs8aStolv7M4cFf",
      "include_colab_link": true
    },
    "kernelspec": {
      "name": "python3",
      "display_name": "Python 3"
    },
    "language_info": {
      "name": "python"
    }
  },
  "cells": [
    {
      "cell_type": "markdown",
      "metadata": {
        "id": "view-in-github",
        "colab_type": "text"
      },
      "source": [
        "<a href=\"https://colab.research.google.com/github/JuJu2181/2048.io/blob/master/imdb_episodes_scraper.ipynb\" target=\"_parent\"><img src=\"https://colab.research.google.com/assets/colab-badge.svg\" alt=\"Open In Colab\"/></a>"
      ]
    },
    {
      "cell_type": "markdown",
      "source": [
        "## A Simple Web Scraper created using Python and BS4 which will scrape imdb website to get episode details for a series which will later be used for data analysis and model building"
      ],
      "metadata": {
        "id": "h0WV6qKcsv1e"
      }
    },
    {
      "cell_type": "markdown",
      "source": [
        "For Connecting gdrive to colab"
      ],
      "metadata": {
        "id": "8x3yk8pGxV2u"
      }
    },
    {
      "cell_type": "code",
      "source": [
        "#code to connect to google drive\n",
        "from google.colab import drive \n",
        "drive.mount('/content/gdrive')"
      ],
      "metadata": {
        "colab": {
          "base_uri": "https://localhost:8080/"
        },
        "id": "jxN-B86Utbex",
        "outputId": "041839e5-77eb-4b8b-9923-c8c0ae158aa0"
      },
      "execution_count": 64,
      "outputs": [
        {
          "output_type": "stream",
          "name": "stdout",
          "text": [
            "Mounted at /content/gdrive\n"
          ]
        }
      ]
    },
    {
      "cell_type": "code",
      "source": [
        "%cd /content/gdrive/MyDrive/web_scraping_data/"
      ],
      "metadata": {
        "colab": {
          "base_uri": "https://localhost:8080/"
        },
        "id": "ZG9nD-YsxVSt",
        "outputId": "adbbca33-4b34-4443-8bc0-f070d734203c"
      },
      "execution_count": 72,
      "outputs": [
        {
          "output_type": "stream",
          "name": "stdout",
          "text": [
            "/content/gdrive/MyDrive/web_scraping_data\n"
          ]
        }
      ]
    },
    {
      "cell_type": "markdown",
      "source": [
        "Code starts From Here"
      ],
      "metadata": {
        "id": "DCxmWi1QxxOW"
      }
    },
    {
      "cell_type": "code",
      "execution_count": 2,
      "metadata": {
        "id": "udtHIGSlJr6q"
      },
      "outputs": [],
      "source": [
        "#imports\n",
        "import requests\n",
        "from bs4 import BeautifulSoup\n",
        "import pandas as pd"
      ]
    },
    {
      "cell_type": "code",
      "source": [
        "# Testing BS4\n",
        "# Retreive website Data\n",
        "# url = 'https://www.imdb.com/title/tt0458290/episodes?season=1'\n",
        "# response = requests.get(url)\n",
        "# season_page = BeautifulSoup(response.content)\n",
        "# # season_page\n",
        "# episode_tiles = season_page.findAll('div',attrs={'class':'info'})\n",
        "# # episode_tiles[0]"
      ],
      "metadata": {
        "id": "C7G084PZKjAQ"
      },
      "execution_count": 34,
      "outputs": []
    },
    {
      "cell_type": "code",
      "source": [
        "def getSeasonsCount(input_url):\n",
        "    \"\"\"\n",
        "    Function to get total no of seasons present in the input series\n",
        "    Parameters: \n",
        "    input_url: URL to scrape from\n",
        "    Returns: \n",
        "    Total number of seasons (int)\n",
        "    \"\"\"\n",
        "    url = input_url\n",
        "    response = requests.get(url)\n",
        "    season_page = BeautifulSoup(response.content)\n",
        "    seasonsSelect = season_page.find('div',attrs={'class':'episode-list-select'}).find('select', attrs={'id':'bySeason'})\n",
        "    optionsVal = [int(option.text.strip()) for option in seasonsSelect.findAll('option')]\n",
        "    return max(optionsVal)\n"
      ],
      "metadata": {
        "id": "eqfKefIcpqSO"
      },
      "execution_count": 54,
      "outputs": []
    },
    {
      "cell_type": "code",
      "source": [
        "# For scraping from all the seasons \n",
        "def scrape_all_data(input_url):\n",
        "    \"\"\"\n",
        "    Function that will scrape all the episodes data from a series\n",
        "    Parameters:\n",
        "    input_url: URL to scrape from\n",
        "    Returns:\n",
        "    dictionary containing scraped data\n",
        "    \"\"\"\n",
        "    no_of_seasons = getSeasonsCount(input_url)\n",
        "    season_no_list = []\n",
        "    episode_no_list = []\n",
        "    episode_name_list = []\n",
        "    episode_airdate_list = []\n",
        "    episode_score_list = []\n",
        "    episode_votes_list = []\n",
        "    for season in range(no_of_seasons):\n",
        "        season_no = season+1\n",
        "        print(f\"Parsing Season {season_no}\")\n",
        "        # Retreive website Data\n",
        "        url = f'{input_url}?season={season_no}'\n",
        "        response = requests.get(url)\n",
        "        season_page = BeautifulSoup(response.content)\n",
        "        episodes = season_page.findAll('div',attrs={'class':'info'})\n",
        "        print(f'There are {len(episodes)} episodes in season {season_no}')\n",
        "        for episode_no, episode in enumerate(episodes):\n",
        "            # episode_name \n",
        "            episode_name = episode.strong.a.text.strip()\n",
        "            # episode_airdata \n",
        "            episode_airdate = episode.find('div',attrs={'class':'airdate'}).text.strip().replace('.','')\n",
        "            # episode_score \n",
        "            try:\n",
        "                episode_score = episode.find(\n",
        "                'div',attrs={'class':'ipl-rating-widget'}\n",
        "                ).find(\n",
        "                    'div',attrs={'class':'ipl-rating-star small'}\n",
        "                ).find('span',attrs={'class':'ipl-rating-star__rating'}).text\n",
        "            except:\n",
        "                episode_score= 0\n",
        "        \n",
        "            # episode_votes \n",
        "            try:\n",
        "                episode_votes = episode.find(\n",
        "                'div',attrs={'class':'ipl-rating-widget'}\n",
        "                ).find(\n",
        "                    'div',attrs={'class':'ipl-rating-star small'}\n",
        "                ).find('span',attrs={'class':'ipl-rating-star__total-votes'}).text.strip('()').replace(',','')\n",
        "            except:\n",
        "                episode_votes = 0\n",
        "            # print(f'------------------- Episode {episode_no+1} -------------------')\n",
        "            # print(f'Episode Name: {episode_name}')\n",
        "            # print(f'Episode Date: {episode_airdate}')\n",
        "            # print(f'Episode Score: {episode_score}')\n",
        "            # print(f'Episode Votes: {episode_votes}')\n",
        "            # print('--------------------------------------------------')\n",
        "            \n",
        "            # creating lists\n",
        "            season_no_list.append(season_no)\n",
        "            episode_no_list.append(episode_no+1)\n",
        "            episode_name_list.append(episode_name)\n",
        "            episode_airdate_list.append(episode_airdate)\n",
        "            episode_score_list.append(episode_score)\n",
        "            episode_votes_list.append(episode_votes)\n",
        "\n",
        "    print('Parsing Done')\n",
        "    # creating dictionary from list \n",
        "    data_dict = {\n",
        "        'season_no': season_no_list,\n",
        "        'episode no': episode_no_list,\n",
        "        'episode_name': episode_name_list,\n",
        "        'episode_airdate': episode_airdate_list,\n",
        "        'episode_score': episode_score_list,\n",
        "        'episode_votes': episode_votes_list\n",
        "    }\n",
        "\n",
        "    return data_dict\n"
      ],
      "metadata": {
        "id": "Fm5iUvOpQz9W"
      },
      "execution_count": 57,
      "outputs": []
    },
    {
      "cell_type": "code",
      "source": [
        "# Used imdb package to get movie url for input name\n",
        "import imdb\n",
        "def getURlByName(series_name):\n",
        "    \"\"\"\n",
        "    Function to get url of the series entered by user \n",
        "    Parameters: \n",
        "    series_name: Name of the series to scrape\n",
        "    Returns: \n",
        "    URL: URL of the website to scrape\n",
        "    \"\"\"\n",
        "    ia = imdb.IMDb()\n",
        "    results = ia.search_movie(series_name)\n",
        "    URL = ia.get_imdbURL(results[0])\n",
        "    return URL"
      ],
      "metadata": {
        "id": "2yk_40Scua0h"
      },
      "execution_count": 86,
      "outputs": []
    },
    {
      "cell_type": "code",
      "source": [
        "# Function to save the dataset in a csv file\n",
        "def saveDataset(df,name):\n",
        "    name = name.replace(' ','_').lower()\n",
        "    df.to_csv(f'{name}_data.csv')"
      ],
      "metadata": {
        "id": "jHUfYv91pRXW"
      },
      "execution_count": 87,
      "outputs": []
    },
    {
      "cell_type": "code",
      "source": [
        "# create dataframe with pandas \n",
        "# URL will be of this format\n",
        "# URL = 'https://www.imdb.com/title/tt0458290/episodes'\n",
        "series_name = input(\"Input name of series to generate data: \")\n",
        "URL = getURlByName(series_name)+'episodes'\n",
        "print(f'URL for {series_name}: {URL}')\n",
        "print('----------------- SCRAPING BEGINS ----------------------------')\n",
        "data = scrape_all_data(URL)\n",
        "print('----------------- SCRAPING ENDS ------------------------------')\n",
        "df = pd.DataFrame(data)\n",
        "print('----------------- Saving Data --------------------------------')\n",
        "saveDataset(df,series_name)\n",
        "print('----------------- Dataset Saved ------------------------------')\n",
        "df.head()"
      ],
      "metadata": {
        "colab": {
          "base_uri": "https://localhost:8080/",
          "height": 545
        },
        "id": "Ezeu8yjKPK1w",
        "outputId": "573f3202-ee0e-4f3d-9509-9f8c9df23e5c"
      },
      "execution_count": 88,
      "outputs": [
        {
          "output_type": "stream",
          "name": "stdout",
          "text": [
            "Input name of series to generate data: Stranger Things\n",
            "URL for Stranger Things: https://www.imdb.com/title/tt4574334/episodes\n",
            "----------------- SCRAPING BEGINS ----------------------------\n",
            "Parsing Season 1\n",
            "There are 8 episodes in season 1\n",
            "Parsing Season 2\n",
            "There are 9 episodes in season 2\n",
            "Parsing Season 3\n",
            "There are 8 episodes in season 3\n",
            "Parsing Season 4\n",
            "There are 9 episodes in season 4\n",
            "Parsing Season 5\n",
            "There are 1 episodes in season 5\n",
            "Parsing Done\n",
            "----------------- SCRAPING ENDS ------------------------------\n",
            "----------------- Saving Data --------------------------------\n",
            "----------------- Dataset Saved ------------------------------\n"
          ]
        },
        {
          "output_type": "execute_result",
          "data": {
            "text/plain": [
              "   season_no  episode no                              episode_name  \\\n",
              "0          1           1  Chapter One: The Vanishing of Will Byers   \n",
              "1          1           2   Chapter Two: The Weirdo on Maple Street   \n",
              "2          1           3               Chapter Three: Holly, Jolly   \n",
              "3          1           4                    Chapter Four: The Body   \n",
              "4          1           5    Chapter Five: The Flea and the Acrobat   \n",
              "\n",
              "  episode_airdate episode_score episode_votes  \n",
              "0     15 Jul 2016           8.5         23751  \n",
              "1     15 Jul 2016           8.4         21125  \n",
              "2     15 Jul 2016           8.8         20983  \n",
              "3     15 Jul 2016           8.9         20586  \n",
              "4     15 Jul 2016           8.7         19503  "
            ],
            "text/html": [
              "\n",
              "  <div id=\"df-b6d4d2b2-9499-497b-ac57-ef9146fd46b0\">\n",
              "    <div class=\"colab-df-container\">\n",
              "      <div>\n",
              "<style scoped>\n",
              "    .dataframe tbody tr th:only-of-type {\n",
              "        vertical-align: middle;\n",
              "    }\n",
              "\n",
              "    .dataframe tbody tr th {\n",
              "        vertical-align: top;\n",
              "    }\n",
              "\n",
              "    .dataframe thead th {\n",
              "        text-align: right;\n",
              "    }\n",
              "</style>\n",
              "<table border=\"1\" class=\"dataframe\">\n",
              "  <thead>\n",
              "    <tr style=\"text-align: right;\">\n",
              "      <th></th>\n",
              "      <th>season_no</th>\n",
              "      <th>episode no</th>\n",
              "      <th>episode_name</th>\n",
              "      <th>episode_airdate</th>\n",
              "      <th>episode_score</th>\n",
              "      <th>episode_votes</th>\n",
              "    </tr>\n",
              "  </thead>\n",
              "  <tbody>\n",
              "    <tr>\n",
              "      <th>0</th>\n",
              "      <td>1</td>\n",
              "      <td>1</td>\n",
              "      <td>Chapter One: The Vanishing of Will Byers</td>\n",
              "      <td>15 Jul 2016</td>\n",
              "      <td>8.5</td>\n",
              "      <td>23751</td>\n",
              "    </tr>\n",
              "    <tr>\n",
              "      <th>1</th>\n",
              "      <td>1</td>\n",
              "      <td>2</td>\n",
              "      <td>Chapter Two: The Weirdo on Maple Street</td>\n",
              "      <td>15 Jul 2016</td>\n",
              "      <td>8.4</td>\n",
              "      <td>21125</td>\n",
              "    </tr>\n",
              "    <tr>\n",
              "      <th>2</th>\n",
              "      <td>1</td>\n",
              "      <td>3</td>\n",
              "      <td>Chapter Three: Holly, Jolly</td>\n",
              "      <td>15 Jul 2016</td>\n",
              "      <td>8.8</td>\n",
              "      <td>20983</td>\n",
              "    </tr>\n",
              "    <tr>\n",
              "      <th>3</th>\n",
              "      <td>1</td>\n",
              "      <td>4</td>\n",
              "      <td>Chapter Four: The Body</td>\n",
              "      <td>15 Jul 2016</td>\n",
              "      <td>8.9</td>\n",
              "      <td>20586</td>\n",
              "    </tr>\n",
              "    <tr>\n",
              "      <th>4</th>\n",
              "      <td>1</td>\n",
              "      <td>5</td>\n",
              "      <td>Chapter Five: The Flea and the Acrobat</td>\n",
              "      <td>15 Jul 2016</td>\n",
              "      <td>8.7</td>\n",
              "      <td>19503</td>\n",
              "    </tr>\n",
              "  </tbody>\n",
              "</table>\n",
              "</div>\n",
              "      <button class=\"colab-df-convert\" onclick=\"convertToInteractive('df-b6d4d2b2-9499-497b-ac57-ef9146fd46b0')\"\n",
              "              title=\"Convert this dataframe to an interactive table.\"\n",
              "              style=\"display:none;\">\n",
              "        \n",
              "  <svg xmlns=\"http://www.w3.org/2000/svg\" height=\"24px\"viewBox=\"0 0 24 24\"\n",
              "       width=\"24px\">\n",
              "    <path d=\"M0 0h24v24H0V0z\" fill=\"none\"/>\n",
              "    <path d=\"M18.56 5.44l.94 2.06.94-2.06 2.06-.94-2.06-.94-.94-2.06-.94 2.06-2.06.94zm-11 1L8.5 8.5l.94-2.06 2.06-.94-2.06-.94L8.5 2.5l-.94 2.06-2.06.94zm10 10l.94 2.06.94-2.06 2.06-.94-2.06-.94-.94-2.06-.94 2.06-2.06.94z\"/><path d=\"M17.41 7.96l-1.37-1.37c-.4-.4-.92-.59-1.43-.59-.52 0-1.04.2-1.43.59L10.3 9.45l-7.72 7.72c-.78.78-.78 2.05 0 2.83L4 21.41c.39.39.9.59 1.41.59.51 0 1.02-.2 1.41-.59l7.78-7.78 2.81-2.81c.8-.78.8-2.07 0-2.86zM5.41 20L4 18.59l7.72-7.72 1.47 1.35L5.41 20z\"/>\n",
              "  </svg>\n",
              "      </button>\n",
              "      \n",
              "  <style>\n",
              "    .colab-df-container {\n",
              "      display:flex;\n",
              "      flex-wrap:wrap;\n",
              "      gap: 12px;\n",
              "    }\n",
              "\n",
              "    .colab-df-convert {\n",
              "      background-color: #E8F0FE;\n",
              "      border: none;\n",
              "      border-radius: 50%;\n",
              "      cursor: pointer;\n",
              "      display: none;\n",
              "      fill: #1967D2;\n",
              "      height: 32px;\n",
              "      padding: 0 0 0 0;\n",
              "      width: 32px;\n",
              "    }\n",
              "\n",
              "    .colab-df-convert:hover {\n",
              "      background-color: #E2EBFA;\n",
              "      box-shadow: 0px 1px 2px rgba(60, 64, 67, 0.3), 0px 1px 3px 1px rgba(60, 64, 67, 0.15);\n",
              "      fill: #174EA6;\n",
              "    }\n",
              "\n",
              "    [theme=dark] .colab-df-convert {\n",
              "      background-color: #3B4455;\n",
              "      fill: #D2E3FC;\n",
              "    }\n",
              "\n",
              "    [theme=dark] .colab-df-convert:hover {\n",
              "      background-color: #434B5C;\n",
              "      box-shadow: 0px 1px 3px 1px rgba(0, 0, 0, 0.15);\n",
              "      filter: drop-shadow(0px 1px 2px rgba(0, 0, 0, 0.3));\n",
              "      fill: #FFFFFF;\n",
              "    }\n",
              "  </style>\n",
              "\n",
              "      <script>\n",
              "        const buttonEl =\n",
              "          document.querySelector('#df-b6d4d2b2-9499-497b-ac57-ef9146fd46b0 button.colab-df-convert');\n",
              "        buttonEl.style.display =\n",
              "          google.colab.kernel.accessAllowed ? 'block' : 'none';\n",
              "\n",
              "        async function convertToInteractive(key) {\n",
              "          const element = document.querySelector('#df-b6d4d2b2-9499-497b-ac57-ef9146fd46b0');\n",
              "          const dataTable =\n",
              "            await google.colab.kernel.invokeFunction('convertToInteractive',\n",
              "                                                     [key], {});\n",
              "          if (!dataTable) return;\n",
              "\n",
              "          const docLinkHtml = 'Like what you see? Visit the ' +\n",
              "            '<a target=\"_blank\" href=https://colab.research.google.com/notebooks/data_table.ipynb>data table notebook</a>'\n",
              "            + ' to learn more about interactive tables.';\n",
              "          element.innerHTML = '';\n",
              "          dataTable['output_type'] = 'display_data';\n",
              "          await google.colab.output.renderOutput(dataTable, element);\n",
              "          const docLink = document.createElement('div');\n",
              "          docLink.innerHTML = docLinkHtml;\n",
              "          element.appendChild(docLink);\n",
              "        }\n",
              "      </script>\n",
              "    </div>\n",
              "  </div>\n",
              "  "
            ]
          },
          "metadata": {},
          "execution_count": 88
        }
      ]
    },
    {
      "cell_type": "code",
      "source": [
        "%ls"
      ],
      "metadata": {
        "colab": {
          "base_uri": "https://localhost:8080/"
        },
        "id": "LEeIswHnzNGN",
        "outputId": "5177c46f-a013-4b15-9f35-4db5ac9fa18a"
      },
      "execution_count": 89,
      "outputs": [
        {
          "output_type": "stream",
          "name": "stdout",
          "text": [
            "Star_Wars_the_clone_wars_data.csv  stranger_things_data.csv\n"
          ]
        }
      ]
    },
    {
      "cell_type": "code",
      "source": [
        ""
      ],
      "metadata": {
        "id": "uTcB2vIQzhy-"
      },
      "execution_count": null,
      "outputs": []
    }
  ]
}